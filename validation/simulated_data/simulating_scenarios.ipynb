{
 "cells": [
  {
   "cell_type": "code",
   "execution_count": 1,
   "metadata": {},
   "outputs": [],
   "source": [
    "import sys\n",
    "sys.path.insert(1, '../DraCooN/algorithm')\n",
    "\n",
    "import os\n",
    "import pandas as pd\n",
    "from GRN_simulations import GRN_simulator\n",
    "from tqdm import tqdm\n",
    "import pickle\n"
   ]
  },
  {
   "cell_type": "code",
   "execution_count": 2,
   "metadata": {
    "pycharm": {
     "name": "#%%\n"
    }
   },
   "outputs": [],
   "source": [
    "create_folders = [\"simulations\", \"results\"]\n",
    "#network_types = ['DC', 'DR']\n",
    "network_types = ['DR']\n",
    "assessment_types = ['proportion_casecontrol',\n",
    "                    'proportion_perturbed_genes',\n",
    "                    'perturbation_noise',\n",
    "                    'signal_noise',\n",
    "                    'gene_number',\n",
    "                   'ingroup_heterogeneity']\n",
    "\n",
    "for folder in create_folders:\n",
    "    if os.path.exists(folder):\n",
    "        os.system(f\"rm -rf {folder}\")\n",
    "    os.system(f\"mkdir {folder}\")\n",
    "\n",
    "    for nettype in network_types:\n",
    "        net_folder = os.path.join(folder, nettype)\n",
    "        if os.path.exists(net_folder):\n",
    "            os.system(f\"rm -rf {net_folder}\")\n",
    "        os.system(f\"mkdir {net_folder}\")\n",
    "\n",
    "        for assessment in assessment_types:\n",
    "            assessment_folder = os.path.join(net_folder, assessment)\n",
    "            if os.path.exists(assessment_folder):\n",
    "                os.system(f\"rm -rf {assessment_folder}\")\n",
    "            os.system(f\"mkdir {assessment_folder}\")\n"
   ]
  },
  {
   "cell_type": "code",
   "execution_count": 3,
   "metadata": {},
   "outputs": [],
   "source": [
    "# What are the baseline parameters?\n",
    "default_n_genes = 100\n",
    "default_n_tfs = int(0.3 * default_n_genes)\n",
    "default_n_samples = 200\n",
    "default_mean_expression = 2\n",
    "default_simdata_noise = 1\n",
    "\n",
    "default_perturbation_noise = 1\n",
    "default_proportion_group_case = 0.5\n",
    "default_ingroup_perturbed_proportion = 1\n",
    "\n",
    "default_affgenes = int(0.4 * default_n_genes)\n",
    "default_shift_alpha = 2\n",
    "default_nruns = 5\n",
    "\n",
    "num, div = default_affgenes, 4\n",
    "splitaffgenes = [num // div + (1 if x < num % div else 0) for x in range(div)]\n",
    "\n",
    "default_perturbeds = [[default_affgenes, 0, 0, 0], \n",
    "              [0, default_affgenes, 0, 0],\n",
    "              [0, 0, default_affgenes, 0],\n",
    "              [0, 0, 0, default_affgenes],\n",
    "              splitaffgenes]"
   ]
  },
  {
   "cell_type": "markdown",
   "metadata": {},
   "source": [
    "# 1. Comparing perturbed and control group sizes"
   ]
  },
  {
   "cell_type": "code",
   "execution_count": 4,
   "metadata": {
    "pycharm": {
     "name": "#%%\n"
    }
   },
   "outputs": [
    {
     "name": "stderr",
     "output_type": "stream",
     "text": [
      "100%|███████████████████████████████████████████████████████████████████████████████████████| 9/9 [00:20<00:00,  2.28s/it]"
     ]
    },
    {
     "name": "stdout",
     "output_type": "stream",
     "text": [
      "Total number of proportion_casecontrol simulations: 45\n"
     ]
    },
    {
     "name": "stderr",
     "output_type": "stream",
     "text": [
      "\n"
     ]
    }
   ],
   "source": [
    "#Baseline parameters\n",
    "which_assessment = 'proportion_casecontrol'\n",
    "\n",
    "datainfo=0\n",
    "\n",
    "proportion_case = [0.1, 0.2, 0.3, 0.4, 0.5, 0.6, 0.7, 0.8, 0.9]\n",
    "\n",
    "for proportion in tqdm(proportion_case):\n",
    "    for p in range(len(default_perturbeds)):\n",
    "       \n",
    "        #print(perturbeds[p][0], perturbeds[p][1], perturbeds[p][2],  perturbeds[p][3])\n",
    "\n",
    "        simulation = GRN_simulator(n_genes=default_n_genes, n_tfs=default_n_tfs, n_samples=default_n_samples,\n",
    "                                   n_shutdowns=default_perturbeds[p][0], n_inversions=default_perturbeds[p][1], \n",
    "                                   n_shifts=default_perturbeds[p][2], n_uncorrelateds=default_perturbeds[p][3], \n",
    "\n",
    "                                   proportion_group_case=proportion,\n",
    "                                   simdata_noise=default_simdata_noise, perturbation_noise=default_perturbation_noise, mean_expression=default_mean_expression,\n",
    "                                   shift_alpha = default_shift_alpha, ingroup_perturbed_proportion=default_ingroup_perturbed_proportion, zscore_normalize = False)\n",
    "        simulation.generate_DRN()\n",
    "\n",
    "        simdrnet_rootname = os.path.join(f'simulations/DR/', which_assessment, f'propCC_{proportion}_perts_{default_perturbeds[p][0]}_{default_perturbeds[p][1]}_{default_perturbeds[p][2]}_{default_perturbeds[p][3]}_')\n",
    "        #print(simdrnet_rootname)\n",
    "\n",
    "        # Now, we'll save the object using pickle.\n",
    "        with open(f'{simdrnet_rootname}.pkl', 'wb') as f:\n",
    "            pickle.dump(simulation, f)\n",
    "\n",
    "\n",
    "        simulation.simulated_data.T.to_csv(simdrnet_rootname + '_biomdata.csv')\n",
    "        simulation.condition_data.to_csv(simdrnet_rootname + '_conddata.csv')\n",
    "        simulation.refnet.to_csv(simdrnet_rootname + '_refnet.csv')\n",
    "        simulation.structure.to_csv(simdrnet_rootname + '_structure.csv')\n",
    "        datainfo += 1\n",
    "print(f\"Total number of {which_assessment} simulations: {datainfo}\")\n",
    "\n"
   ]
  },
  {
   "cell_type": "markdown",
   "metadata": {
    "jp-MarkdownHeadingCollapsed": true,
    "tags": []
   },
   "source": [
    "# 2. Comparing proportion of perturbed genes"
   ]
  },
  {
   "cell_type": "code",
   "execution_count": 5,
   "metadata": {},
   "outputs": [
    {
     "name": "stderr",
     "output_type": "stream",
     "text": [
      "100%|███████████████████████████████████████████████████████████████████████████████████████| 9/9 [00:22<00:00,  2.49s/it]"
     ]
    },
    {
     "name": "stdout",
     "output_type": "stream",
     "text": [
      "Total number of proportion_perturbed_genes simulations: 45\n"
     ]
    },
    {
     "name": "stderr",
     "output_type": "stream",
     "text": [
      "\n"
     ]
    }
   ],
   "source": [
    "which_assessment = 'proportion_perturbed_genes'\n",
    "\n",
    "\n",
    "\n",
    "proportion_genes = [0.1, 0.2, 0.3, 0.4, 0.5, 0.6, 0.7, 0.8, 0.9]\n",
    "\n",
    "datainfo = 0\n",
    "for proportion in tqdm(proportion_genes):\n",
    "    \n",
    "    default_affgenes = int(proportion * default_n_genes)\n",
    "\n",
    "    num, div = default_affgenes, 4\n",
    "    splitaffgenes = [num // div + (1 if x < num % div else 0) for x in range(div)]\n",
    "\n",
    "    default_perturbeds = [[default_affgenes, 0, 0, 0], \n",
    "                  [0, default_affgenes, 0, 0],\n",
    "                  [0, 0, default_affgenes, 0],\n",
    "                  [0, 0, 0, default_affgenes],\n",
    "                  splitaffgenes]\n",
    "    \n",
    "    for p in range(len(default_perturbeds)):\n",
    "        #print(default_perturbeds[p][0], default_perturbeds[p][1], default_perturbeds[p][2],  default_perturbeds[p][3])\n",
    "\n",
    "        simulation = GRN_simulator(n_genes=default_n_genes, n_tfs=default_n_tfs, n_samples=default_n_samples,\n",
    "                                   n_shutdowns=default_perturbeds[p][0], n_inversions=default_perturbeds[p][1], \n",
    "                                   n_shifts=default_perturbeds[p][2], n_uncorrelateds=default_perturbeds[p][3], \n",
    "\n",
    "                                   proportion_group_case=default_proportion_group_case,\n",
    "                                   simdata_noise=default_simdata_noise, perturbation_noise=default_perturbation_noise, mean_expression=default_mean_expression,\n",
    "                                   shift_alpha = default_shift_alpha, ingroup_perturbed_proportion=default_ingroup_perturbed_proportion, zscore_normalize = False)\n",
    "        simulation.generate_DRN()\n",
    "\n",
    "        simdrnet_rootname = os.path.join(f'simulations/DR/', which_assessment, f'propPertG_{proportion}_perts_{default_perturbeds[p][0]}_{default_perturbeds[p][1]}_{default_perturbeds[p][2]}_{default_perturbeds[p][3]}_')\n",
    "        #print(simdrnet_rootname)\n",
    "\n",
    "        # Now, we'll save the object using pickle.\n",
    "        with open(f'{simdrnet_rootname}.pkl', 'wb') as f:\n",
    "            pickle.dump(simulation, f)\n",
    "\n",
    "\n",
    "        simulation.simulated_data.T.to_csv(simdrnet_rootname + '_biomdata.csv')\n",
    "        simulation.condition_data.to_csv(simdrnet_rootname + '_conddata.csv')\n",
    "        simulation.refnet.to_csv(simdrnet_rootname + '_refnet.csv')\n",
    "        simulation.structure.to_csv(simdrnet_rootname + '_structure.csv')\n",
    "        datainfo += 1\n",
    "        \n",
    "print(f\"Total number of {which_assessment} simulations: {datainfo}\")\n"
   ]
  },
  {
   "cell_type": "markdown",
   "metadata": {
    "jp-MarkdownHeadingCollapsed": true,
    "tags": []
   },
   "source": [
    "# 3. Perturbation noise"
   ]
  },
  {
   "cell_type": "code",
   "execution_count": 6,
   "metadata": {},
   "outputs": [
    {
     "name": "stderr",
     "output_type": "stream",
     "text": [
      "100%|███████████████████████████████████████████████████████████████████████████████████████| 5/5 [00:16<00:00,  3.35s/it]"
     ]
    },
    {
     "name": "stdout",
     "output_type": "stream",
     "text": [
      "Total number of perturbation_noise simulations: 25\n"
     ]
    },
    {
     "name": "stderr",
     "output_type": "stream",
     "text": [
      "\n"
     ]
    }
   ],
   "source": [
    "which_assessment = 'perturbation_noise'\n",
    "\n",
    "\n",
    "datainfo=0\n",
    "\n",
    "perturb_noises = [0.1, 0.5, 1, 1.5, 2]\n",
    "\n",
    "for proportion in tqdm(perturb_noises):\n",
    "    for p in range(len(default_perturbeds)):\n",
    "        #print(perturbeds[p][0], perturbeds[p][1], perturbeds[p][2],  perturbeds[p][3])\n",
    "\n",
    "        simulation = GRN_simulator(n_genes=default_n_genes, n_tfs=default_n_tfs, n_samples=default_n_samples,\n",
    "                                   n_shutdowns=default_perturbeds[p][0], n_inversions=default_perturbeds[p][1], \n",
    "                                   n_shifts=default_perturbeds[p][2], n_uncorrelateds=default_perturbeds[p][3], \n",
    "\n",
    "                                   proportion_group_case=default_proportion_group_case,\n",
    "                                   simdata_noise=default_simdata_noise, perturbation_noise=proportion, mean_expression=default_mean_expression,\n",
    "                                   shift_alpha = default_shift_alpha, ingroup_perturbed_proportion=default_ingroup_perturbed_proportion, zscore_normalize = False)\n",
    "        simulation.generate_DRN()\n",
    "\n",
    "        simdrnet_rootname = os.path.join(f'simulations/DR/', which_assessment, f'perturbnoise_{proportion}_perts_{default_perturbeds[p][0]}_{default_perturbeds[p][1]}_{default_perturbeds[p][2]}_{default_perturbeds[p][3]}_')\n",
    "        #print(simdrnet_rootname)\n",
    "\n",
    "        # Now, we'll save the object using pickle.\n",
    "        with open(f'{simdrnet_rootname}.pkl', 'wb') as f:\n",
    "            pickle.dump(simulation, f)\n",
    "\n",
    "\n",
    "        simulation.simulated_data.T.to_csv(simdrnet_rootname + '_biomdata.csv')\n",
    "        simulation.condition_data.to_csv(simdrnet_rootname + '_conddata.csv')\n",
    "        simulation.refnet.to_csv(simdrnet_rootname + '_refnet.csv')\n",
    "        simulation.structure.to_csv(simdrnet_rootname + '_structure.csv')\n",
    "        datainfo += 1\n",
    "\n",
    "\n",
    "print(f\"Total number of {which_assessment} simulations: {datainfo}\")\n"
   ]
  },
  {
   "cell_type": "markdown",
   "metadata": {
    "pycharm": {
     "name": "#%% md\n"
    },
    "tags": []
   },
   "source": [
    "# 4. Comparing signal noises"
   ]
  },
  {
   "cell_type": "code",
   "execution_count": 7,
   "metadata": {},
   "outputs": [
    {
     "name": "stderr",
     "output_type": "stream",
     "text": [
      "100%|███████████████████████████████████████████████████████████████████████████████████████| 5/5 [00:19<00:00,  3.94s/it]"
     ]
    },
    {
     "name": "stdout",
     "output_type": "stream",
     "text": [
      "Total number of signal_noise simulations: 25\n"
     ]
    },
    {
     "name": "stderr",
     "output_type": "stream",
     "text": [
      "\n"
     ]
    }
   ],
   "source": [
    "which_assessment = 'signal_noise'\n",
    "\n",
    "datainfo=0\n",
    "\n",
    "signal_noises = [0.1, 0.5, 1, 1.5, 2]\n",
    "\n",
    "for proportion in tqdm(signal_noises):\n",
    "    for p in range(len(default_perturbeds)):\n",
    "        #print(perturbeds[p][0], perturbeds[p][1], perturbeds[p][2],  perturbeds[p][3])\n",
    "\n",
    "        simulation = GRN_simulator(n_genes=default_n_genes, n_tfs=default_n_tfs, n_samples=default_n_samples,\n",
    "                                   n_shutdowns=default_perturbeds[p][0], n_inversions=default_perturbeds[p][1], \n",
    "                                   n_shifts=default_perturbeds[p][2], n_uncorrelateds=default_perturbeds[p][3], \n",
    "\n",
    "                                   proportion_group_case=default_proportion_group_case,\n",
    "                                   simdata_noise=proportion, perturbation_noise=default_perturbation_noise, mean_expression=default_mean_expression,\n",
    "                                   shift_alpha = default_shift_alpha, ingroup_perturbed_proportion=default_ingroup_perturbed_proportion, zscore_normalize = False)\n",
    "        simulation.generate_DRN()\n",
    "\n",
    "        simdrnet_rootname = os.path.join(f'simulations/DR/', which_assessment, f'signalnoise_{proportion}_perts_{default_perturbeds[p][0]}_{default_perturbeds[p][1]}_{default_perturbeds[p][2]}_{default_perturbeds[p][3]}_')\n",
    "        #print(simdrnet_rootname)\n",
    "\n",
    "        # Now, we'll save the object using pickle.\n",
    "        with open(f'{simdrnet_rootname}.pkl', 'wb') as f:\n",
    "            pickle.dump(simulation, f)\n",
    "\n",
    "\n",
    "        simulation.simulated_data.T.to_csv(simdrnet_rootname + '_biomdata.csv')\n",
    "        simulation.condition_data.to_csv(simdrnet_rootname + '_conddata.csv')\n",
    "        simulation.refnet.to_csv(simdrnet_rootname + '_refnet.csv')\n",
    "        simulation.structure.to_csv(simdrnet_rootname + '_structure.csv')\n",
    "        datainfo += 1\n",
    "\n",
    "print(f\"Total number of {which_assessment} simulations: {datainfo}\")\n",
    "\n"
   ]
  },
  {
   "cell_type": "markdown",
   "metadata": {
    "jp-MarkdownHeadingCollapsed": true,
    "tags": []
   },
   "source": [
    "# 5. Comparing gene numbers"
   ]
  },
  {
   "cell_type": "code",
   "execution_count": 8,
   "metadata": {},
   "outputs": [
    {
     "name": "stderr",
     "output_type": "stream",
     "text": [
      "100%|███████████████████████████████████████████████████████████████████████████████████████| 4/4 [00:06<00:00,  1.71s/it]"
     ]
    },
    {
     "name": "stdout",
     "output_type": "stream",
     "text": [
      "Total number of gene_number simulations: 20\n"
     ]
    },
    {
     "name": "stderr",
     "output_type": "stream",
     "text": [
      "\n"
     ]
    }
   ],
   "source": [
    "which_assessment = 'gene_number'\n",
    "\n",
    "genes = [20, 50, 100, 200]\n",
    "\n",
    "datainfo=0\n",
    "\n",
    "\n",
    "for genneno in tqdm(genes):\n",
    "    default_affgenes = int(0.3 * genneno)\n",
    "    default_n_tfs = int(0.3 * genneno)\n",
    "\n",
    "    num, div = default_affgenes, 4\n",
    "    splitaffgenes = [num // div + (1 if x < num % div else 0) for x in range(div)]\n",
    "\n",
    "    default_perturbeds = [[default_affgenes, 0, 0, 0], \n",
    "                  [0, default_affgenes, 0, 0],\n",
    "                  [0, 0, default_affgenes, 0],\n",
    "                  [0, 0, 0, default_affgenes],\n",
    "                  splitaffgenes]\n",
    "    \n",
    "    # print(genes, default_affgenes, default_n_tfs, default_perturbeds)\n",
    "    for p in range(len(default_perturbeds)):\n",
    "\n",
    "        simulation = GRN_simulator(n_genes=genneno, n_tfs=default_n_tfs, n_samples=default_n_samples,\n",
    "                                   n_shutdowns=default_perturbeds[p][0], n_inversions=default_perturbeds[p][1], \n",
    "                                   n_shifts=default_perturbeds[p][2], n_uncorrelateds=default_perturbeds[p][3], \n",
    "\n",
    "                                   proportion_group_case=default_proportion_group_case,\n",
    "                                   simdata_noise=default_simdata_noise, perturbation_noise=default_perturbation_noise, mean_expression=default_mean_expression,\n",
    "                                   shift_alpha = default_shift_alpha, ingroup_perturbed_proportion=default_ingroup_perturbed_proportion, zscore_normalize = False)\n",
    "        simulation.generate_DRN()\n",
    "\n",
    "        simdrnet_rootname = os.path.join(f'simulations/DR/', which_assessment, f'genenno_{genneno}_perts_{default_perturbeds[p][0]}_{default_perturbeds[p][1]}_{default_perturbeds[p][2]}_{default_perturbeds[p][3]}_')\n",
    "        #print(simdrnet_rootname)\n",
    "\n",
    "        # Now, we'll save the object using pickle.\n",
    "        with open(f'{simdrnet_rootname}.pkl', 'wb') as f:\n",
    "            pickle.dump(simulation, f)\n",
    "\n",
    "\n",
    "        simulation.simulated_data.T.to_csv(simdrnet_rootname + '_biomdata.csv')\n",
    "        simulation.condition_data.to_csv(simdrnet_rootname + '_conddata.csv')\n",
    "        simulation.refnet.to_csv(simdrnet_rootname + '_refnet.csv')\n",
    "        simulation.structure.to_csv(simdrnet_rootname + '_structure.csv')\n",
    "        datainfo += 1\n",
    "        \n",
    "print(f\"Total number of {which_assessment} simulations: {datainfo}\")\n"
   ]
  },
  {
   "cell_type": "markdown",
   "metadata": {},
   "source": [
    "# 6. Comparing in-group heterogeneity"
   ]
  },
  {
   "cell_type": "code",
   "execution_count": 9,
   "metadata": {},
   "outputs": [
    {
     "name": "stderr",
     "output_type": "stream",
     "text": [
      "100%|███████████████████████████████████████████████████████████████████████████████████████| 9/9 [00:38<00:00,  4.33s/it]"
     ]
    },
    {
     "name": "stdout",
     "output_type": "stream",
     "text": [
      "Total number of ingroup_heterogeneity simulations: 45\n"
     ]
    },
    {
     "name": "stderr",
     "output_type": "stream",
     "text": [
      "\n"
     ]
    }
   ],
   "source": [
    "#Baseline parameters\n",
    "which_assessment = 'ingroup_heterogeneity'\n",
    "\n",
    "datainfo=0\n",
    "\n",
    "proportion_case = [0.1, 0.2, 0.3, 0.4, 0.5, 0.6, 0.7, 0.8, 0.9]\n",
    "\n",
    "for proportion in tqdm(proportion_case):\n",
    "    for p in range(len(default_perturbeds)):\n",
    "\n",
    "        #print(perturbeds[p][0], perturbeds[p][1], perturbeds[p][2],  perturbeds[p][3])\n",
    "\n",
    "        simulation = GRN_simulator(n_genes=default_n_genes, n_tfs=default_n_tfs, n_samples=default_n_samples,\n",
    "                                   n_shutdowns=default_perturbeds[p][0], n_inversions=default_perturbeds[p][1], \n",
    "                                   n_shifts=default_perturbeds[p][2], n_uncorrelateds=default_perturbeds[p][3], \n",
    "\n",
    "                                   proportion_group_case=default_proportion_group_case,\n",
    "                                   simdata_noise=default_simdata_noise, perturbation_noise=default_perturbation_noise, mean_expression=default_mean_expression,\n",
    "                                   shift_alpha = default_shift_alpha, ingroup_perturbed_proportion=proportion, zscore_normalize = False)\n",
    "        simulation.generate_DRN()\n",
    "\n",
    "        simdrnet_rootname = os.path.join(f'simulations/DR/', which_assessment, f'propingroup_{proportion}_perts_{default_perturbeds[p][0]}_{default_perturbeds[p][1]}_{default_perturbeds[p][2]}_{default_perturbeds[p][3]}_')\n",
    "        #print(simdrnet_rootname)\n",
    "\n",
    "        # Now, we'll save the object using pickle.\n",
    "        with open(f'{simdrnet_rootname}.pkl', 'wb') as f:\n",
    "            pickle.dump(simulation, f)\n",
    "\n",
    "\n",
    "        simulation.simulated_data.T.to_csv(simdrnet_rootname + '_biomdata.csv')\n",
    "        simulation.condition_data.to_csv(simdrnet_rootname + '_conddata.csv')\n",
    "        simulation.refnet.to_csv(simdrnet_rootname + '_refnet.csv')\n",
    "        simulation.structure.to_csv(simdrnet_rootname + '_structure.csv')\n",
    "        datainfo += 1\n",
    "\n",
    "print(f\"Total number of {which_assessment} simulations: {datainfo}\")\n",
    "\n"
   ]
  }
 ],
 "metadata": {
  "kernelspec": {
   "display_name": "Python 3 (ipykernel)",
   "language": "python",
   "name": "python3"
  },
  "language_info": {
   "codemirror_mode": {
    "name": "ipython",
    "version": 3
   },
   "file_extension": ".py",
   "mimetype": "text/x-python",
   "name": "python",
   "nbconvert_exporter": "python",
   "pygments_lexer": "ipython3",
   "version": "3.10.8"
  }
 },
 "nbformat": 4,
 "nbformat_minor": 4
}
